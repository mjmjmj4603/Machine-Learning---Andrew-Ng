{
  "nbformat": 4,
  "nbformat_minor": 0,
  "metadata": {
    "colab": {
      "name": "Untitled",
      "provenance": [],
      "collapsed_sections": [],
      "toc_visible": true,
      "authorship_tag": "ABX9TyN+27Ghj3yXdfl4niZLLkct",
      "include_colab_link": true
    },
    "kernelspec": {
      "name": "python3",
      "display_name": "Python 3"
    }
  },
  "cells": [
    {
      "cell_type": "markdown",
      "metadata": {
        "id": "view-in-github",
        "colab_type": "text"
      },
      "source": [
        "<a href=\"https://colab.research.google.com/github/mjmjmj4603/Machine-Learning---Andrew-Ng/blob/master/Untitled.ipynb\" target=\"_parent\"><img src=\"https://colab.research.google.com/assets/colab-badge.svg\" alt=\"Open In Colab\"/></a>"
      ]
    },
    {
      "cell_type": "code",
      "metadata": {
        "id": "h4k7f1WOsId0",
        "colab_type": "code",
        "colab": {}
      },
      "source": [
        "import numpy as np\n",
        "import matplotlib.pyplot as plt\n",
        "from sklearn.manifold import TSNE # for dimensionality reduction"
      ],
      "execution_count": 0,
      "outputs": []
    },
    {
      "cell_type": "code",
      "metadata": {
        "id": "-Ua0dMMIs6fj",
        "colab_type": "code",
        "colab": {}
      },
      "source": [
        "X = np.loadtxt('data.txt')\n",
        "label = np.loadtxt('label.txt').reshape(y.shape[0],-1)\n"
      ],
      "execution_count": 0,
      "outputs": []
    },
    {
      "cell_type": "code",
      "metadata": {
        "id": "zBgRRXTrO3Uf",
        "colab_type": "code",
        "colab": {
          "base_uri": "https://localhost:8080/",
          "height": 282
        },
        "outputId": "03807ace-1c3b-4dab-b069-89fb276ed188"
      },
      "source": [
        "data_np = np.array(X)\n",
        "data_embedded = TSNE(n_components=2).fit_transform(data_np)\n",
        "vis_x = data_embedded[:,0]\n",
        "vis_y = data_embedded[:,1]\n",
        "\n",
        "plt.scatter(vis_x, vis_y)"
      ],
      "execution_count": 62,
      "outputs": [
        {
          "output_type": "execute_result",
          "data": {
            "text/plain": [
              "<matplotlib.collections.PathCollection at 0x7f735c3dbb38>"
            ]
          },
          "metadata": {
            "tags": []
          },
          "execution_count": 62
        },
        {
          "output_type": "display_data",
          "data": {
            "image/png": "[encoded data removed]",
            "text/plain": [
              "<Figure size 432x288 with 1 Axes>"
            ]
          },
          "metadata": {
            "tags": []
          }
        }
      ]
    },
    {
      "cell_type": "code",
      "metadata": {
        "id": "VmanjgP0R6IP",
        "colab_type": "code",
        "colab": {}
      },
      "source": [
        "def find_closest_centroids(X, centroids):\n",
        "  \n",
        "    m = X.shape[0]\n",
        "    idx = np.zeros(m)\n",
        "    for i in range(m):\n",
        "        dist = np.sum(np.square(centroids - X[i, :]), axis=1)\n",
        "        idx[i] = np.argmin(dist)\n",
        "\n",
        "    return idx"
      ],
      "execution_count": 0,
      "outputs": []
    },
    {
      "cell_type": "code",
      "metadata": {
        "id": "VAsvDmoGT2qA",
        "colab_type": "code",
        "colab": {}
      },
      "source": [
        "def compute_centroids(X, idx, K):\n",
        "    \n",
        "    m, n = X.shape\n",
        "    centroids = np.zeros((K, n))\n",
        "\n",
        "    for k in range(K):\n",
        "        x = X[idx == k]\n",
        "        centroids[k, :] = np.mean(x, axis=0)\n",
        "\n",
        "    return centroids"
      ],
      "execution_count": 0,
      "outputs": []
    },
    {
      "cell_type": "code",
      "metadata": {
        "id": "lI5-RIkQXJ7x",
        "colab_type": "code",
        "colab": {}
      },
      "source": [
        "def k_means_init_centroids(X, K):\n",
        "    \n",
        "    rand_idx = np.random.permutation(X.shape[0])\n",
        "    centroids = X[rand_idx[0:K], :]\n",
        "    return centroids"
      ],
      "execution_count": 0,
      "outputs": []
    },
    {
      "cell_type": "code",
      "metadata": {
        "id": "W4kTx0TEUNfo",
        "colab_type": "code",
        "colab": {}
      },
      "source": [
        "def run_k_means(X, initial_centroids, max_iters):\n",
        "   \n",
        "    K = initial_centroids.shape[0]\n",
        "    centroids = initial_centroids\n",
        "    history_centroids = np.zeros((max_iters, centroids.shape[0], centroids.shape[1]))\n",
        "    idx = np.zeros(X.shape[0])\n",
        "\n",
        "    for i in range(max_iters): \n",
        "        history_centroids[i, :] = centroids\n",
        "        idx = find_closest_centroids(X, centroids)\n",
        "\n",
        "        plt.figure()    \n",
        "        plt.show()\n",
        "\n",
        "        centroids = compute_centroids(X, idx, K)\n",
        "\n",
        "    return centroids, idx"
      ],
      "execution_count": 0,
      "outputs": []
    },
    {
      "cell_type": "code",
      "metadata": {
        "id": "i4NF4iBaWIT0",
        "colab_type": "code",
        "colab": {
          "base_uri": "https://localhost:8080/",
          "height": 187
        },
        "outputId": "9471e31b-4022-4865-8d02-3706ba00b68d"
      },
      "source": [
        "# Settings for running K-Means\n",
        "K = 3\n",
        "max_iters = 10\n",
        "initial_centroids = k_means_init_centroids(X, K)\n",
        "\n",
        "# Run K-Means algorithm\n",
        "centroids, idx = run_k_means(X, initial_centroids, max_iters)\n"
      ],
      "execution_count": 63,
      "outputs": [
        {
          "output_type": "display_data",
          "data": {
            "text/plain": [
              "<Figure size 432x288 with 0 Axes>"
            ]
          },
          "metadata": {
            "tags": []
          }
        },
        {
          "output_type": "display_data",
          "data": {
            "text/plain": [
              "<Figure size 432x288 with 0 Axes>"
            ]
          },
          "metadata": {
            "tags": []
          }
        },
        {
          "output_type": "display_data",
          "data": {
            "text/plain": [
              "<Figure size 432x288 with 0 Axes>"
            ]
          },
          "metadata": {
            "tags": []
          }
        },
        {
          "output_type": "display_data",
          "data": {
            "text/plain": [
              "<Figure size 432x288 with 0 Axes>"
            ]
          },
          "metadata": {
            "tags": []
          }
        },
        {
          "output_type": "display_data",
          "data": {
            "text/plain": [
              "<Figure size 432x288 with 0 Axes>"
            ]
          },
          "metadata": {
            "tags": []
          }
        },
        {
          "output_type": "display_data",
          "data": {
            "text/plain": [
              "<Figure size 432x288 with 0 Axes>"
            ]
          },
          "metadata": {
            "tags": []
          }
        },
        {
          "output_type": "display_data",
          "data": {
            "text/plain": [
              "<Figure size 432x288 with 0 Axes>"
            ]
          },
          "metadata": {
            "tags": []
          }
        },
        {
          "output_type": "display_data",
          "data": {
            "text/plain": [
              "<Figure size 432x288 with 0 Axes>"
            ]
          },
          "metadata": {
            "tags": []
          }
        },
        {
          "output_type": "display_data",
          "data": {
            "text/plain": [
              "<Figure size 432x288 with 0 Axes>"
            ]
          },
          "metadata": {
            "tags": []
          }
        },
        {
          "output_type": "display_data",
          "data": {
            "text/plain": [
              "<Figure size 432x288 with 0 Axes>"
            ]
          },
          "metadata": {
            "tags": []
          }
        }
      ]
    }
  ]
}